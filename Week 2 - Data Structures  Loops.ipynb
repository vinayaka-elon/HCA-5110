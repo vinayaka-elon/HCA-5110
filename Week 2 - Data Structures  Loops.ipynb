{
 "cells": [
  {
   "cell_type": "markdown",
   "id": "e6285205-d27b-42f9-9c89-8d4580a19733",
   "metadata": {},
   "source": [
    "## Data Structures"
   ]
  },
  {
   "cell_type": "markdown",
   "id": "b1d0198a-9a24-4fb4-be46-bbf9d8a1dcce",
   "metadata": {},
   "source": [
    "### Strings\n",
    "\n",
    "- A string is a sequence of characters stored in a variable. In Python, quotes (single ' or double \") designate a string.\n",
    "- The first character in the string is at index 0, the second character is at index 1, the third character is at index 2, and so on.\n",
    "- Python will give you an IndexError error message if you use an index that exceeds the number of characters in your string.\n",
    "- Indexes can be only integer values, not floats.\n",
    "- The integer value -1 refers to the last character in a string, the value -2 refers to the second-to-last character, and so on."
   ]
  },
  {
   "cell_type": "code",
   "execution_count": null,
   "id": "c6f9a017-e076-4481-8c37-0a1a28605904",
   "metadata": {},
   "outputs": [],
   "source": [
    "# Indexing Strings\n",
    "\n"
   ]
  },
  {
   "cell_type": "markdown",
   "id": "0b2397f7-16b3-458c-87c8-3fb8061ae851",
   "metadata": {},
   "source": [
    "**Additional Functionality**\n",
    "  \n",
    "- `len(string)` returns the number of characters in the string.\n",
    "- `string1 + string2` concatenates (joins) two strings together.\n",
    "- `string * n` repeats the string `n` times.\n",
    "- `string[start:end]` returns a substring from index `start` up to, but not including, `end`."
   ]
  },
  {
   "cell_type": "code",
   "execution_count": null,
   "id": "878c875a-3e08-4853-b534-7195446e18da",
   "metadata": {},
   "outputs": [],
   "source": []
  },
  {
   "cell_type": "markdown",
   "id": "5b759c50-378f-4c12-819c-3a6efb6958ec",
   "metadata": {},
   "source": [
    "**String methods**\n",
    "- `\"hello\".find(\"ll\")` → `1`  \n",
    "- `\"hello\".count(\"l\")` → `2`  \n",
    "- `\"HELLO\".lower()` → `'hello'`  \n",
    "- `\"Hello\".upper()` → `'HELLO'`  \n",
    "- `\"hello\".replace(\"e\", \"i\")` → `'hillo'`  \n",
    "- `\"hello\".replace(\"e\", \"*\")` → `'h*llo'`  \n",
    "- `\"hello\".startswith(\"g\")` → `False`"
   ]
  },
  {
   "cell_type": "code",
   "execution_count": null,
   "id": "9f5bb222-b91a-4839-a6e5-82f97337d118",
   "metadata": {},
   "outputs": [],
   "source": []
  },
  {
   "cell_type": "markdown",
   "id": "5dd3019f-74c4-45cd-8eef-449a0a2a06c5",
   "metadata": {},
   "source": [
    "### Lists\n",
    "\n",
    "\n",
    "Lists and tuples can contain **multiple values**, which makes writing programs that handle large amounts of data easier. And since lists themselves can contain *other lists*, you can use them to arrange data into **hierarchical structures**.\n",
    "\n",
    "A **list** is a collection of items, that is stored in a variable. In python, **square brackets** desingate a list.\n",
    "\n",
    "\n",
    "- The *first value* in the list is at index **0**, the *second value* is at index **1**, the *third value* is at index **2**, and so on.\n",
    "- Python will give you an **IndexError error** message if you use an index that exceeds the number of values in your list value.\n",
    "- Indexes can be only integer values, not floats. \n",
    "- The integer value **-1** refers to the *last index* in a list, the value **-2** refers to the *second-to-last index* in a list, and so on."
   ]
  },
  {
   "cell_type": "code",
   "execution_count": null,
   "id": "d5e63b18-70de-469e-bc20-693e77cad2ca",
   "metadata": {},
   "outputs": [],
   "source": [
    "# Example of list and how to access the items within it.\n"
   ]
  },
  {
   "cell_type": "markdown",
   "id": "4495beaa-35a2-44e8-812f-0db937ec6333",
   "metadata": {},
   "source": [
    "### List operations\n",
    "\n",
    "#### Slice\n",
    "\n",
    "Just as an index can get a single value from a list, a **slice** can get several values from a list, in the form of a new list.\n",
    "\n",
    "**names[1:4]**\n",
    "\n",
    "In a slice, the first integer is the index where the slice starts. The second integer is the index where the slice ends. A slice goes up to, but will not include, the value at the second index. A slice evaluates to a new list value. \n",
    "\n"
   ]
  },
  {
   "cell_type": "code",
   "execution_count": null,
   "id": "0830bac5-c21c-4e52-95c7-aa4260c27c4b",
   "metadata": {},
   "outputs": [],
   "source": [
    "# Example of slices\n"
   ]
  },
  {
   "cell_type": "markdown",
   "id": "4865e3c1-cb8e-4ef9-b612-93f3923540a8",
   "metadata": {},
   "source": [
    "#### len() - will return number of values in a lsit\n"
   ]
  },
  {
   "cell_type": "code",
   "execution_count": null,
   "id": "9a89fcf9-8857-41f9-bb93-733d513e8dbe",
   "metadata": {},
   "outputs": [],
   "source": [
    "# Example of len()\n"
   ]
  },
  {
   "cell_type": "markdown",
   "id": "7ce4968d-5d4b-4a74-8517-c5b80539e3cf",
   "metadata": {},
   "source": [
    "#### Editing lists\n",
    "\n",
    "A function is a set of instructions that can be used repeatedly, while a method is a set of instructions that are associated with an object.\n",
    "\n",
    "- removing values - **del   list[index]**, **list.remove(*value*)**, **list.pop(*index*)**\n",
    "- adding values - **insert(index, value)**, **append(value)**\n",
    "\n",
    "Others:\n",
    "- **sort()** \n",
    "- **reverse()** "
   ]
  },
  {
   "cell_type": "code",
   "execution_count": null,
   "id": "3661fb48-fa56-4dcb-95b3-67339f0b6487",
   "metadata": {},
   "outputs": [],
   "source": [
    "# Example of removing values\n"
   ]
  },
  {
   "cell_type": "code",
   "execution_count": null,
   "id": "d63cefe3-1c21-4f3c-9acb-b18a2a79d451",
   "metadata": {},
   "outputs": [],
   "source": []
  },
  {
   "cell_type": "code",
   "execution_count": null,
   "id": "92523ae1-b763-4ca2-b89f-3ef36c0213af",
   "metadata": {},
   "outputs": [],
   "source": []
  },
  {
   "cell_type": "code",
   "execution_count": null,
   "id": "1b576437-eb33-4b7a-8205-049d3d0ff547",
   "metadata": {},
   "outputs": [],
   "source": [
    "# Example of adding values\n",
    "\n"
   ]
  },
  {
   "cell_type": "code",
   "execution_count": null,
   "id": "34e27730-70e0-4a64-bd27-174054e3526d",
   "metadata": {},
   "outputs": [],
   "source": []
  },
  {
   "cell_type": "code",
   "execution_count": null,
   "id": "d00904db-9cb0-49b7-becc-b9feff98490a",
   "metadata": {},
   "outputs": [],
   "source": [
    "# Example of sort & reverse\n"
   ]
  },
  {
   "cell_type": "code",
   "execution_count": null,
   "id": "3ca1aaba-7212-4da1-9584-5713f0d72e3a",
   "metadata": {},
   "outputs": [],
   "source": []
  },
  {
   "cell_type": "markdown",
   "id": "a08e18f0-a0c2-4580-aea2-c94f605f76ba",
   "metadata": {},
   "source": [
    "#### List Concatenation and Replication\n",
    "\n",
    "Lists can be concatenated and replicated just like strings. The **+** operator *combines two lists* to create a new list value and the *  operator can be used with a list and an integer value to *replicate the list*."
   ]
  },
  {
   "cell_type": "code",
   "execution_count": null,
   "id": "983e6aa2-3cba-474c-ae01-9f9d184f0113",
   "metadata": {},
   "outputs": [],
   "source": [
    "# Example of list concatenation and replication\n",
    "\n"
   ]
  },
  {
   "cell_type": "code",
   "execution_count": null,
   "id": "0e9a3403-1e97-4096-956f-91018caf7562",
   "metadata": {},
   "outputs": [],
   "source": []
  },
  {
   "cell_type": "markdown",
   "id": "b29da96b-c609-40a7-99d7-1fabf7ef34eb",
   "metadata": {},
   "source": [
    "#### In and Not In Operators\n",
    "\n",
    "You can determine whether a value is or isn’t in a list with the in and not in operators. \n",
    "\n",
    "Like other operators, in and not in are used in expressions and connect two values: a value to look for in a list and the list where it may be found. These expressions will evaluate to a **Boolean value**."
   ]
  },
  {
   "cell_type": "code",
   "execution_count": null,
   "id": "86ef8e42-e827-471d-a80f-e03b48295490",
   "metadata": {},
   "outputs": [],
   "source": [
    "# Example with In and Not In Operators\n",
    "\n"
   ]
  },
  {
   "cell_type": "markdown",
   "id": "accb034e-8bf2-4739-b260-9e27fb15f300",
   "metadata": {},
   "source": [
    "Lists aren’t the only data types that represent ordered sequences of values. For example, strings and lists are actually similar if you consider a string to be a “list” of single text characters. \n",
    "\n",
    "Many of the things you can do with lists can also be done with strings and other values of sequence types: indexing; slicing; and using them with for loops, with len(), and with the in and not in operators. \n",
    "\n",
    "**But lists and strings are different in an important way. A list value is a mutable data type: it can have values added, removed, or changed. However, a string is immutable: it cannot be changed.**"
   ]
  },
  {
   "cell_type": "markdown",
   "id": "52cf8757-2fae-4f49-8aee-573136ad018d",
   "metadata": {},
   "source": [
    "### Arrays\n",
    "\n",
    "Numpy is the core library for scientific computing in Python. It provides a high-performance multidimensional array object, and tools for working with these arrays. \n",
    "\n",
    "A numpy array is a grid of values, all of the same type, and is indexed by a tuple of nonnegative integers. The number of dimensions is the **rank** of the array; the **shape** of an array is a tuple of integers giving the size of the array along each dimension.\n",
    "\n",
    "We can initialize numpy arrays from nested Python lists, and access elements using square brackets:\n",
    "\n",
    "- Using array: np.array(list)\n",
    "- Using linspace: np.linspace(0, 10, 5)  # Start, stop, number of points\n",
    "- Using arange: np.arange(0, 10, 2)  # Start, stop, step"
   ]
  },
  {
   "cell_type": "code",
   "execution_count": null,
   "id": "0265d03f-bcba-468c-808b-f40c1a264115",
   "metadata": {},
   "outputs": [],
   "source": [
    "# Creating an array - from a list, linspace, arange\n",
    "\n"
   ]
  },
  {
   "cell_type": "markdown",
   "id": "ec930f28-4b3b-4cf8-afd6-535353224107",
   "metadata": {},
   "source": [
    "Numpy also provides many functions to create arrays:"
   ]
  },
  {
   "cell_type": "code",
   "execution_count": null,
   "id": "8b24d03b-b3c0-46e0-a4b6-c455ce75aea5",
   "metadata": {},
   "outputs": [],
   "source": [
    "# Create an array of all zeros - zeros - np.zeros((m,n))\n",
    "\n",
    "\n",
    "# Create an array of all ones - ones - np.ones((m,n))\n",
    "\n",
    "\n",
    "# Create a constant array - full - np.full((m,n), x)\n",
    "\n",
    "\n",
    "# Create a 2x2 identity matrix - eye - np.eye((n)) \n",
    "\n",
    "\n",
    "# Create an array filled with random values - random.rand - np.random.rand(m,n)\n",
    "\n"
   ]
  },
  {
   "cell_type": "markdown",
   "id": "0601de5d-89e0-4187-ba5f-18046a6f95a9",
   "metadata": {},
   "source": [
    "#### Array/list methods\n",
    "\n",
    "\n",
    "| **Method**        | **Description**                                                | **Example**                                              |\n",
    "|--------------------|----------------------------------------------------------------|----------------------------------------------------------|\n",
    "| `append()`         | Adds values to the end of an array (using `np.append()`)       | `np.append(arr, [4, 5])`                                 |\n",
    "| `copy()`           | Returns a copy of the array                                   | `arr.copy()`                                             |\n",
    "| `insert()`         | Inserts values at a specific position (using slicing)         | `np.insert(arr, 1, 10)`                                  |\n",
    "| `pop()`            | Removes an element at a specific index                        | `np.delete(arr, 2, axis =0)`                                      |\n",
    "| `remove()`         | Removes the first occurrence of a value (use filtering)       | `arr[arr != 20]`                                         |\n",
    "| `reverse()`        | Reverses the array order                                      | `arr[::-1]`                                              |\n",
    "\n"
   ]
  },
  {
   "cell_type": "code",
   "execution_count": null,
   "id": "afc1e46b-9ab4-4719-9d50-f17eaec87c8b",
   "metadata": {},
   "outputs": [],
   "source": [
    "# Examples of using array methods\n",
    "\n"
   ]
  },
  {
   "cell_type": "code",
   "execution_count": null,
   "id": "244e7219-cd3a-42a6-8220-3825a8f4f69d",
   "metadata": {},
   "outputs": [],
   "source": []
  },
  {
   "cell_type": "markdown",
   "id": "4df2d275-7629-4250-809b-16b1e36905d9",
   "metadata": {},
   "source": [
    "#### Array indexing\n",
    "\n",
    "Slicing: Similar to Python lists, numpy arrays can be sliced. Since arrays may be multidimensional, you must specify a slice for each dimension of the array:"
   ]
  },
  {
   "cell_type": "code",
   "execution_count": null,
   "id": "79f1a538-4254-4e55-9036-bcecfeef3c27",
   "metadata": {},
   "outputs": [],
   "source": [
    "# first n elements --> arr[:n]\n",
    "\n",
    "\n",
    "# elements after index \"n\" --> arr[n:]\n",
    "\n",
    "\n",
    "# middle sub-array --> arr[n:m]\n",
    "\n",
    "\n",
    "# all elements, reversed --> arr[::-1]\n"
   ]
  },
  {
   "cell_type": "markdown",
   "id": "5db66ca3-4f05-41fa-b2a6-059c12e49cee",
   "metadata": {},
   "source": [
    "#### Multi-dimensional arrays\n"
   ]
  },
  {
   "cell_type": "code",
   "execution_count": null,
   "id": "1c4e0a0e-49d9-4b5d-b67c-7af3aa950d22",
   "metadata": {},
   "outputs": [],
   "source": [
    "multi = np.array([[1,2,3,4],\n",
    "                  [5,6,7,8],\n",
    "                  [9,10,11,12]])\n",
    "\n",
    "\n",
    "\n",
    "# sub-array with rows and columns --> arr[n:m, n:m]\n",
    "\n",
    "\n",
    "# access row or column --> arr[n, :] or arr[:, n]\n"
   ]
  },
  {
   "cell_type": "code",
   "execution_count": null,
   "id": "080743ea-59aa-4a49-8820-124a2c1be7ce",
   "metadata": {},
   "outputs": [],
   "source": [
    "# Example of editing array values\n"
   ]
  },
  {
   "cell_type": "markdown",
   "id": "bd3d0bde-48d2-460b-b672-2667877c5c2c",
   "metadata": {},
   "source": [
    "#### Array operations\n",
    "\n",
    "| Operation            | Code Example                                                                 | Description                                        |\n",
    "|----------------------|-------------------------------------------------------------------------------|----------------------------------------------------|\n",
    "| **Array Addition**    | `array1 + array2` <br> `np.array([1, 2, 3]) + np.array([4, 5, 6])`           | Adds corresponding elements of two arrays.         |\n",
    "| **Array Subtraction** | `array1 - array2` <br> `np.array([1, 2, 3]) - np.array([4, 5, 6])`           | Subtracts corresponding elements of two arrays.    |\n",
    "| **Array Multiplication** | `array1 * array2` <br> `np.array([1, 2, 3]) * np.array([4, 5, 6])`       | Multiplies corresponding elements of two arrays.   |\n",
    "| **Array Division**    | `array1 / array2` <br> `np.array([1, 2, 3]) / np.array([4, 5, 6])`           | Divides corresponding elements of two arrays.      |\n",
    "| **Square Root**       | `np.sqrt(array)` <br> `np.sqrt(np.array([1, 4, 9]))`                        | Computes the square root of each element in the array. |\n",
    "| **Dot Product**       | `np.dot(array1, array2)` <br> `np.dot(np.array([1, 2, 3]), np.array([4, 5, 6]))` | Computes the dot product of two arrays.            |\n",
    "| **Sum**               | `np.sum(array)` <br> `np.sum(np.array([1, 2, 3, 4, 5]))`                    | Computes the sum of all elements in the array.     |\n",
    "| **Transpose**         | `array.T` <br> `np.array([[1, 2], [3, 4], [5, 6]]).T`                        | Computes the transpose of a 2D array (matrix).     |\n",
    "\n"
   ]
  },
  {
   "cell_type": "code",
   "execution_count": null,
   "id": "29eb0d45-a2a2-4883-bb51-88a25e07556d",
   "metadata": {},
   "outputs": [],
   "source": [
    "# Example of array operations\n",
    "\n"
   ]
  },
  {
   "cell_type": "markdown",
   "id": "d3b7a7ff-8df2-40e8-b5d1-356822fd106d",
   "metadata": {},
   "source": [
    "### Dictionaries\n",
    "\n",
    "Like a list, a dictionary is a mutable collection of many values. But unlike indexes for lists, indexes for dictionaries can use *many different data types, not just integers.* \n",
    "\n",
    "Indexes for dictionaries are called **keys**, and a key with its associated value is called a **key-value** pair.\n",
    "\n",
    "In code, a dictionary is typed with braces, **{}**.\n"
   ]
  },
  {
   "cell_type": "code",
   "execution_count": null,
   "id": "e6d2a4ac-cb85-412a-bf2c-cb5d30ab6332",
   "metadata": {},
   "outputs": [],
   "source": [
    "# Example of a dictionary\n",
    "\n"
   ]
  },
  {
   "cell_type": "markdown",
   "id": "2ca4d41f-a413-437d-92f4-7d56260c0dfc",
   "metadata": {},
   "source": [
    "#### keys(), values() and items() methods\n",
    "\n",
    "The values returned by these methods are not true lists: they cannot be modified and do not have an append() method. But these data types (**dict_keys, dict_values**, and **dict_items**, respectively) can be used in for loops.\n",
    "\n",
    "**Other methods**\n",
    "\n",
    "- get() \n",
    "- setdefault() "
   ]
  },
  {
   "cell_type": "code",
   "execution_count": null,
   "id": "d781b30b-2aed-4f25-99e3-47e770550036",
   "metadata": {},
   "outputs": [],
   "source": [
    "# Example of keys()\n",
    "\n",
    "\n",
    "# Example of values()\n",
    "\n",
    "\n",
    "# Example of items()\n"
   ]
  },
  {
   "cell_type": "code",
   "execution_count": null,
   "id": "432d60fb-4f05-4034-83bb-2373fefb7179",
   "metadata": {},
   "outputs": [],
   "source": [
    "# Checking whether a key or an item exists in a dictionary\n",
    "\n",
    "\n",
    "# Example of get()\n"
   ]
  },
  {
   "cell_type": "markdown",
   "id": "4c6d6d6b-f907-46f1-9d7a-a7219c410944",
   "metadata": {},
   "source": [
    "#### Nested dictionaries\n",
    "\n",
    "As you model more complicated things, you may find you need dictionaries and lists that contain other dictionaries and lists. Lists are useful to contain an ordered series of values, and dictionaries are useful for associating keys with values. "
   ]
  },
  {
   "cell_type": "code",
   "execution_count": null,
   "id": "d338627d-3205-4d97-a26c-abf4afc038c6",
   "metadata": {},
   "outputs": [],
   "source": [
    "# Example of nested dictionaries\n",
    "\n"
   ]
  },
  {
   "cell_type": "code",
   "execution_count": null,
   "id": "92ba04fc-98b0-44f7-982a-bca7dd6133d3",
   "metadata": {},
   "outputs": [],
   "source": []
  },
  {
   "cell_type": "markdown",
   "id": "d74bcea8-8218-4ace-8eac-29d3329d337b",
   "metadata": {},
   "source": [
    "### Tuples"
   ]
  },
  {
   "cell_type": "code",
   "execution_count": null,
   "id": "041345d0-2c4c-4be6-a2dd-1d91a6905fd0",
   "metadata": {},
   "outputs": [],
   "source": []
  },
  {
   "cell_type": "code",
   "execution_count": null,
   "id": "0fb6268b-0978-4ea3-842a-e0fb040b55b7",
   "metadata": {},
   "outputs": [],
   "source": []
  },
  {
   "cell_type": "markdown",
   "id": "c2774c37-a0b2-46af-bd77-3a71cca8e1f5",
   "metadata": {},
   "source": [
    "### IF Statements\n",
    "\n",
    "- if statements in python are used to control the flow of your program based on **conditions**.\n",
    "- They allow you to execute specific code only when a particular condition is **true**, and can include addition options if you have more than one condition or the condition is **false**"
   ]
  },
  {
   "cell_type": "code",
   "execution_count": null,
   "id": "8107348f-d210-42d7-9e92-91f8fe2b8f65",
   "metadata": {},
   "outputs": [],
   "source": [
    "# if condition:\n",
    "#    execute below --> runs only if condition is true"
   ]
  },
  {
   "cell_type": "markdown",
   "id": "d277b0bb-1f0a-46b6-82b1-ca674a997cec",
   "metadata": {},
   "source": [
    "- If you want to specify an alternative action when the condition is **false**, use **else**"
   ]
  },
  {
   "cell_type": "code",
   "execution_count": null,
   "id": "dcade608-9c24-4efa-9255-93098c729ead",
   "metadata": {},
   "outputs": [],
   "source": []
  },
  {
   "cell_type": "markdown",
   "id": "72d50586-2b75-4dd3-84ab-4dec4cb8e89e",
   "metadata": {},
   "source": [
    "- What if we have **more than 1 condition** we want to use? - **elif**"
   ]
  },
  {
   "cell_type": "code",
   "execution_count": null,
   "id": "73c6eb42-fc9f-4623-963c-e53322a8556d",
   "metadata": {},
   "outputs": [],
   "source": [
    "# > 750 - excellent, between 700 and 750 - good & below 700 - bad\n"
   ]
  },
  {
   "cell_type": "code",
   "execution_count": null,
   "id": "22645a02-8582-4a48-8ca4-91c767f09bff",
   "metadata": {},
   "outputs": [],
   "source": []
  },
  {
   "cell_type": "markdown",
   "id": "a1cd091a-0f3c-4f15-8ce7-e9e0f7035298",
   "metadata": {},
   "source": [
    "## Loops"
   ]
  },
  {
   "cell_type": "markdown",
   "id": "e0386846-54b4-4b33-987e-7198007d8869",
   "metadata": {},
   "source": [
    "### For loop\n",
    "\n",
    "![Alt text](https://snakebear.science/_images/for_loop_flowchart.svg)"
   ]
  },
  {
   "cell_type": "code",
   "execution_count": null,
   "id": "552328ce-21ff-4e92-8bbf-f2770dd22452",
   "metadata": {},
   "outputs": [],
   "source": [
    "# Example - For loop\n",
    "\n"
   ]
  },
  {
   "cell_type": "markdown",
   "id": "2380d0aa-a78c-4d88-bd6b-73453fe9143b",
   "metadata": {},
   "source": [
    "### While loop\n",
    "\n",
    "![Alt text](https://snakebear.science/_images/if_vs_while.svg)"
   ]
  },
  {
   "cell_type": "code",
   "execution_count": null,
   "id": "b87b7eb2-9d49-458f-a984-5442333f54a2",
   "metadata": {},
   "outputs": [],
   "source": [
    "# Example - While loop\n",
    "\n"
   ]
  },
  {
   "cell_type": "code",
   "execution_count": null,
   "id": "657bbcaa-a603-4914-861b-ae4bc43011e7",
   "metadata": {},
   "outputs": [],
   "source": [
    "# Example of using loops with lists\n"
   ]
  },
  {
   "cell_type": "code",
   "execution_count": null,
   "id": "9757f60f-cea6-4a4a-8d46-ba00917b6a82",
   "metadata": {},
   "outputs": [],
   "source": [
    "# Example of using loops with arrays\n"
   ]
  },
  {
   "cell_type": "markdown",
   "id": "4b587df0-c348-442e-9c26-3856b3184901",
   "metadata": {},
   "source": [
    "#### Practice Questions\n",
    "\n",
    "1. A hospital records daily admissions for a week: [23, 30, 25, 18, 40, 32, 27]. Write code to calculate the average admissions.\n",
    "2. You are given a string \"COVID-19\". Write Python code to check whether the string contains the substring \"COVID\".\n",
    "3. A hospital wants to calculate the BMI of 5 patients. Store their (weight in kgs, height in meters) in a list of tuples and use a loop to compute each BMI. Compute each patient’s BMI = weight / (height²).\n",
    "4. A hospital maintains a record of patients and their cholesterol levels. For example, John has 180, Mary has 250, Ali has 210, and Sophia has 175. Write a program that identifies and prints the names of patients whose cholesterol level is greater than or equal to 200."
   ]
  },
  {
   "cell_type": "code",
   "execution_count": null,
   "id": "d2676479-87a5-4d10-bd66-73eacbfd3dc3",
   "metadata": {},
   "outputs": [],
   "source": []
  }
 ],
 "metadata": {
  "kernelspec": {
   "display_name": "Python 3 (ipykernel)",
   "language": "python",
   "name": "python3"
  },
  "language_info": {
   "codemirror_mode": {
    "name": "ipython",
    "version": 3
   },
   "file_extension": ".py",
   "mimetype": "text/x-python",
   "name": "python",
   "nbconvert_exporter": "python",
   "pygments_lexer": "ipython3",
   "version": "3.12.7"
  }
 },
 "nbformat": 4,
 "nbformat_minor": 5
}
