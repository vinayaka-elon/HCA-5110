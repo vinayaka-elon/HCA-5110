{
 "cells": [
  {
   "cell_type": "markdown",
   "metadata": {},
   "source": [
    "### Visualizations\n",
    "\n",
    "##### Libraries:\n",
    "- Matplotlib\n",
    "- Seaborn"
   ]
  },
  {
   "cell_type": "code",
   "execution_count": null,
   "metadata": {},
   "outputs": [],
   "source": [
    "# All the library imports\n",
    "# pip install matplotlib\n",
    "# pip install seaborn\n",
    "# pip install plotly\n",
    "\n",
    "import matplotlib.pyplot as plt\n",
    "import seaborn as sns\n",
    "import pandas as pd\n",
    "import plotly.express as px\n",
    "import numpy as np"
   ]
  },
  {
   "cell_type": "code",
   "execution_count": null,
   "metadata": {},
   "outputs": [],
   "source": [
    "# import the data\n"
   ]
  },
  {
   "cell_type": "markdown",
   "metadata": {},
   "source": [
    "##### Check for outliers \n",
    "\n",
    "- Box plot\n",
    "- Histogram\n",
    "\n",
    "Verifying the distribution of the quantitative variable"
   ]
  },
  {
   "cell_type": "code",
   "execution_count": null,
   "metadata": {},
   "outputs": [],
   "source": [
    "# Box plot using the in-built dataframe method\n",
    "# data.boxplot(column=\"column\")\n",
    "\n"
   ]
  },
  {
   "cell_type": "markdown",
   "metadata": {},
   "source": [
    "##### Customize Matploltlib charts - https://matplotlib.org/stable/tutorials/pyplot.html"
   ]
  },
  {
   "cell_type": "code",
   "execution_count": null,
   "metadata": {},
   "outputs": [],
   "source": [
    "# Box plot using the matplotlib\n",
    "# plt.boxplot(data[\"column\"])\n",
    "# options - plt.title(), plt.xlabel(), plt.xlabel()\n"
   ]
  },
  {
   "cell_type": "markdown",
   "metadata": {},
   "source": [
    "##### Customize Seaborn charts - https://seaborn.pydata.org/tutorial/introduction"
   ]
  },
  {
   "cell_type": "code",
   "execution_count": null,
   "metadata": {},
   "outputs": [],
   "source": [
    "# Box plot using the seaborn\n",
    "# sns.set_theme(style=\"white\", palette=None)\n",
    "# sns.boxplot(data = data[\"column\"])\n"
   ]
  },
  {
   "cell_type": "markdown",
   "metadata": {},
   "source": [
    "##### Customize Plotly charts - https://plotly.com/python/basic-charts/"
   ]
  },
  {
   "cell_type": "code",
   "execution_count": null,
   "metadata": {},
   "outputs": [],
   "source": [
    "# Box plot using the plotly\n",
    "# fig = px.box(data[\"column], title=\"------\", height=800)\n"
   ]
  },
  {
   "cell_type": "code",
   "execution_count": null,
   "metadata": {},
   "outputs": [],
   "source": [
    "#df.hist(column=column_name, bins=10, color='skyblue', edgecolor='black')\n"
   ]
  },
  {
   "cell_type": "code",
   "execution_count": null,
   "metadata": {},
   "outputs": [],
   "source": [
    "# Histogram\n",
    "# sns.histplot(data=data[\"columns\"], bins= , kde=True, color='skyblue')\n"
   ]
  },
  {
   "cell_type": "code",
   "execution_count": null,
   "metadata": {},
   "outputs": [],
   "source": [
    "#fig = px.histogram(df[column_name], nbins=10, title=\"Histogram using Plotly\")\n",
    "#fig.show()\n",
    "\n"
   ]
  },
  {
   "cell_type": "markdown",
   "metadata": {},
   "source": [
    "##### Check for association between quantitative variables\n",
    "\n",
    "- Scatter plot"
   ]
  },
  {
   "cell_type": "code",
   "execution_count": null,
   "metadata": {},
   "outputs": [],
   "source": [
    "data"
   ]
  },
  {
   "cell_type": "code",
   "execution_count": null,
   "metadata": {},
   "outputs": [],
   "source": [
    "#plt.scatter(x, y, color='green')\n"
   ]
  },
  {
   "cell_type": "code",
   "execution_count": null,
   "metadata": {},
   "outputs": [],
   "source": [
    "#sns.scatterplot(data=df, x='x', y='y')\n"
   ]
  },
  {
   "cell_type": "code",
   "execution_count": null,
   "metadata": {},
   "outputs": [],
   "source": [
    "#fig = px.scatter(df, x='X', y='Y', title=\"Scatter Plot using Plotly\")\n",
    "#fig.show()\n",
    "\n"
   ]
  },
  {
   "cell_type": "markdown",
   "metadata": {},
   "source": [
    "##### Visualize the frequency of a categorical variable\n",
    "\n",
    "**Comparison**\n",
    "- Bar Chart\n",
    "- Column Chart\n",
    "\n",
    "**Composition**\n",
    "- Pie Chart"
   ]
  },
  {
   "cell_type": "code",
   "execution_count": null,
   "metadata": {},
   "outputs": [],
   "source": [
    "# value_counts = data[\"Category\"].value_counts().reset_index()\n"
   ]
  },
  {
   "cell_type": "code",
   "execution_count": null,
   "metadata": {},
   "outputs": [],
   "source": [
    "#sns.barplot(x='Values', y='Counts', data=value_counts, palette='Blues_d')\n",
    "#plt.show()\n"
   ]
  },
  {
   "cell_type": "code",
   "execution_count": null,
   "metadata": {},
   "outputs": [],
   "source": [
    "# grouped_data = data.groupby(\"Category\")[\"Number\"].mean().reset_index()\n",
    "# sns.barplot(x='Counts', y='Values', data=value_counts)\n"
   ]
  },
  {
   "cell_type": "code",
   "execution_count": null,
   "metadata": {},
   "outputs": [],
   "source": [
    "#fig = px.bar(data, x='Values',y='Counts')\n",
    "#fig.show()\n",
    "\n"
   ]
  },
  {
   "cell_type": "code",
   "execution_count": null,
   "metadata": {},
   "outputs": [],
   "source": [
    "#plt.pie(value_counts['Counts'],labels=value_counts['Values'],  autopct='%1.1f%%')\n",
    "#plt.show()\n",
    "\n",
    "#fig = px.pie(value_counts, names='Values',values='Counts'})\n",
    "#fig.show()\n"
   ]
  },
  {
   "cell_type": "markdown",
   "metadata": {},
   "source": [
    "##### Visualize the trend of a quantitative variable over time\n",
    "\n",
    "- Convert number to year: pd.to_datetime(df['Year'], format='%Y') "
   ]
  },
  {
   "cell_type": "code",
   "execution_count": null,
   "metadata": {},
   "outputs": [],
   "source": [
    "#np.random.seed(42)  # For reproducibility\n",
    "#time = pd.date_range(start=\"2024-01-01\", periods=100, freq='D')\n",
    "#price = np.random.randint(50, 150, size=100)\n",
    "#df = pd.DataFrame({'Time': time, 'Price': price})\n",
    "\n",
    "#plt.figure(figsize=(10, 6))\n",
    "#plt.plot(df['Time'], df['Price'], marker='o', color='blue', linestyle='-')\n",
    "#sns.lineplot(x='Time', y='Price', data=df, marker='o', color='blue')\n",
    "#plt.show()\n",
    "\n",
    "#fig = px.line(df, x='Time', y='Price', title='Price Over Time (Plotly)', markers=True)\n",
    "#fig.show()"
   ]
  },
  {
   "cell_type": "markdown",
   "metadata": {},
   "source": [
    "##### Save Matplotlib and Seaborn images"
   ]
  },
  {
   "cell_type": "code",
   "execution_count": null,
   "metadata": {},
   "outputs": [],
   "source": [
    "#plt.savefig('name.png', dpi=100)"
   ]
  },
  {
   "cell_type": "code",
   "execution_count": null,
   "metadata": {},
   "outputs": [],
   "source": []
  },
  {
   "cell_type": "markdown",
   "metadata": {},
   "source": [
    "### Hypothesis Testing\n",
    "\n",
    "Single t-test\n",
    "- **p_val = stats.ttest_1samp(df[col], popmean=pop_mean)**\n",
    "\n",
    "Single z-test\n",
    "- **z_stat, p_val = ztest(df[col], value=100)**"
   ]
  },
  {
   "cell_type": "code",
   "execution_count": null,
   "metadata": {},
   "outputs": [],
   "source": [
    "from scipy import stats\n",
    "from statsmodels.stats.weightstats import ztest\n",
    "from scipy.stats import chi2_contingency\n",
    "\n",
    "# df: your DataFrame\n",
    "# col: numeric column, e.g., \"systolic_bp\"\n",
    "# pop_mean: the reference mean to test against\n",
    "\n",
    "#t_stat, p_val = stats.ttest_1samp(df[col].dropna(), popmean=pop_mean)\n"
   ]
  },
  {
   "cell_type": "markdown",
   "metadata": {},
   "source": [
    "Independent and Paired t-tests:\n",
    "- **t_stat, p_val = stats.ttest_ind(g1_vals, g2_vals, equal_var=False)**\n",
    "- **t_stat, p_val = stats.ttest_rel(paired[pre_col], paired[post_col])**\n",
    "\n",
    "Create columns based on categories by filtering: **group_a = df[df['Category'] == 'A']['Quantity']**"
   ]
  },
  {
   "cell_type": "code",
   "execution_count": null,
   "metadata": {},
   "outputs": [],
   "source": [
    "# group_col: categorical column with two groups, e.g., \"treatment_group\" ∈ {\"A\",\"B\"}\n",
    "# value_col: numeric outcome, e.g., \"length_of_stay_days\""
   ]
  },
  {
   "cell_type": "markdown",
   "metadata": {},
   "source": [
    "Chi-sqaured test\n",
    "- **chi2, p, dof, expected = chi2_contingency(ct)**"
   ]
  },
  {
   "cell_type": "code",
   "execution_count": null,
   "metadata": {},
   "outputs": [],
   "source": [
    "#ct = pd.crosstab(df[row_cat], df[col_cat])\n",
    "#chi2, p, dof, expected = chi2_contingency(ct)"
   ]
  },
  {
   "cell_type": "markdown",
   "metadata": {},
   "source": [
    "Z-tests\n",
    "- **z_stat, p_val = ztest(df[value_col].dropna(), value=benchmark)**\n",
    "- **z_stat, p_val = ztest(g1, g2)**"
   ]
  },
  {
   "cell_type": "code",
   "execution_count": null,
   "metadata": {},
   "outputs": [],
   "source": [
    "#z_stat, p_val = ztest(g1, g2)"
   ]
  },
  {
   "cell_type": "code",
   "execution_count": null,
   "metadata": {},
   "outputs": [],
   "source": []
  }
 ],
 "metadata": {
  "kernelspec": {
   "display_name": "Python 3 (ipykernel)",
   "language": "python",
   "name": "python3"
  },
  "language_info": {
   "codemirror_mode": {
    "name": "ipython",
    "version": 3
   },
   "file_extension": ".py",
   "mimetype": "text/x-python",
   "name": "python",
   "nbconvert_exporter": "python",
   "pygments_lexer": "ipython3",
   "version": "3.12.7"
  }
 },
 "nbformat": 4,
 "nbformat_minor": 4
}
