{
 "cells": [
  {
   "cell_type": "markdown",
   "id": "dd5adec7-b166-4bf0-9e71-690ff67126eb",
   "metadata": {},
   "source": [
    "## Getting started with Python"
   ]
  },
  {
   "cell_type": "code",
   "execution_count": null,
   "id": "28da0f2f-9093-4e99-b598-c7d3ae9d69d6",
   "metadata": {},
   "outputs": [],
   "source": []
  },
  {
   "cell_type": "markdown",
   "id": "3c263618-dfc5-4304-ac5a-fc668d934f7b",
   "metadata": {},
   "source": [
    "#### Variables\n",
    "\n",
    "- Variables are the containers for data and allow you to store and manipulate information.\n",
    "- We create variables by using the = sign\n",
    "    - X = 5\n",
    "    - Name = “Alice”\n",
    "    - Pi = 3.14"
   ]
  },
  {
   "cell_type": "code",
   "execution_count": null,
   "id": "bd6e4e66-5605-428e-a7a3-6c31f21686ef",
   "metadata": {},
   "outputs": [],
   "source": []
  },
  {
   "cell_type": "markdown",
   "id": "69580314-4486-41a9-b291-afb7c72629ed",
   "metadata": {},
   "source": [
    "**Notes about variables:**\n",
    "\n",
    "- Variables must start with a letter (a-z, A-Z) or an underscore (_)\n",
    "- Variable names can contain only letters, numbers, and underscores\n",
    "- Variables are case-sensitive (myVariable and myvariable are different)\n",
    "- Avoid using python keywords as variable names (if, else, class, for, etc..)\n",
    "- Use underscores (_) for multi-word variable names (total_amount, is_student)\n",
    "- Avoid using single letter variables"
   ]
  },
  {
   "cell_type": "code",
   "execution_count": null,
   "id": "e51e27bd-6389-4805-897d-c8d385143a86",
   "metadata": {},
   "outputs": [],
   "source": []
  },
  {
   "cell_type": "markdown",
   "id": "ac9eea0a-8aaf-46c7-9453-f928b79e41e8",
   "metadata": {},
   "source": [
    "**Python datatypes**\n",
    "\n",
    "- Integer (int32, int64)\n",
    "- Float (float32, float64)\n",
    "- Boolean (bool)\n",
    "- String (str)\n",
    "\n",
    "type() is a in-built method"
   ]
  },
  {
   "cell_type": "code",
   "execution_count": null,
   "id": "d139ecf7-1bd5-46d4-aaec-1caf917d08b0",
   "metadata": {},
   "outputs": [],
   "source": []
  },
  {
   "cell_type": "code",
   "execution_count": null,
   "id": "ddba06a6-4767-4f4a-a9eb-a19589680d44",
   "metadata": {},
   "outputs": [],
   "source": []
  },
  {
   "cell_type": "code",
   "execution_count": null,
   "id": "dd79d6a6-28de-45ec-88d5-32b820c7fe2f",
   "metadata": {},
   "outputs": [],
   "source": []
  },
  {
   "cell_type": "markdown",
   "id": "c016e68a-d78c-4ec1-aaa4-24cfafc4d7e0",
   "metadata": {},
   "source": [
    "**Change datatypes**"
   ]
  },
  {
   "cell_type": "code",
   "execution_count": null,
   "id": "4239b626-66b4-4e67-a5f1-28816dceeccc",
   "metadata": {},
   "outputs": [],
   "source": []
  },
  {
   "cell_type": "code",
   "execution_count": null,
   "id": "62d12243-5ac9-4ec4-b278-b87e404ac315",
   "metadata": {},
   "outputs": [],
   "source": []
  },
  {
   "cell_type": "markdown",
   "id": "6fc8ad47-6ffb-4551-af6f-aef0bbed43b9",
   "metadata": {},
   "source": [
    "**Assign more than one variable in a row**\n",
    "- Example: Is_student, name = True, “Alice”"
   ]
  },
  {
   "cell_type": "code",
   "execution_count": null,
   "id": "db030329-87ed-435e-9c39-9d291ba7c104",
   "metadata": {},
   "outputs": [],
   "source": []
  },
  {
   "cell_type": "markdown",
   "id": "0708cc5f-9cff-40b5-8d70-e32cc9f6cbf2",
   "metadata": {},
   "source": [
    "### Operators"
   ]
  },
  {
   "cell_type": "markdown",
   "id": "18cbe8a8-2efa-4d19-be3a-e53b38f1d5b9",
   "metadata": {},
   "source": [
    "#### Comparison Operators\n",
    "\n",
    "- Equality (==)\n",
    "- Inequality (!=)\n",
    "- Greater than (>)\n",
    "- Less than (<)\n",
    "- Greater than and equal (>=)\n",
    "- Less than and equal (<=)"
   ]
  },
  {
   "cell_type": "code",
   "execution_count": null,
   "id": "276bb8d8-47db-47fa-aa7e-6f7c004063e8",
   "metadata": {},
   "outputs": [],
   "source": []
  },
  {
   "cell_type": "markdown",
   "id": "697c0027-ea7e-409e-824c-d782481b4feb",
   "metadata": {},
   "source": [
    "#### Mathematical Operators\n",
    "- Addition: +\n",
    "- Subtraction: -\n",
    "- Multiplication: *\n",
    "- Float Division: /"
   ]
  },
  {
   "cell_type": "code",
   "execution_count": null,
   "id": "d50f922d-df83-40a2-a021-9d954924239f",
   "metadata": {},
   "outputs": [],
   "source": []
  },
  {
   "cell_type": "markdown",
   "id": "8add88cd-f3ae-410a-bdab-1047a72761de",
   "metadata": {},
   "source": [
    "**Order of operations**\n",
    "- Paranthesis\n",
    "- Exponential\n",
    "- Multiplication & Division\n",
    "- Addition & Subtraction"
   ]
  },
  {
   "cell_type": "code",
   "execution_count": null,
   "id": "8e98f584-b510-4400-a91a-e737d0317c2e",
   "metadata": {},
   "outputs": [],
   "source": []
  },
  {
   "cell_type": "markdown",
   "id": "44b89d24-9934-43f1-a31e-dd843c674c02",
   "metadata": {},
   "source": [
    "#### Logical Operators\n",
    "- not\n",
    "- and\n",
    "- or"
   ]
  },
  {
   "cell_type": "code",
   "execution_count": null,
   "id": "7aedb31e-fe18-468e-8d1b-548736678946",
   "metadata": {},
   "outputs": [],
   "source": []
  },
  {
   "cell_type": "markdown",
   "id": "70903f3b-9443-40d4-be8e-80ee62b64f85",
   "metadata": {},
   "source": [
    "### IF Statements\n",
    "\n",
    "- if statements in python are used to control the flow of your program based on **conditions**.\n",
    "- They allow you to execute specific code only when a particular condition is **true**, and can include addition options if you have more than one condition or the condition is **false**\n"
   ]
  },
  {
   "cell_type": "code",
   "execution_count": null,
   "id": "6934cc98-c52f-4090-a650-467fba6bd676",
   "metadata": {},
   "outputs": [],
   "source": [
    "# if condition:\n",
    "#    execute below --> runs only if condition is true"
   ]
  },
  {
   "cell_type": "code",
   "execution_count": null,
   "id": "5beb66e6-3ad8-4304-a090-3a9d688bb528",
   "metadata": {},
   "outputs": [],
   "source": []
  },
  {
   "cell_type": "markdown",
   "id": "f055f3f5-39a3-4e9d-91e6-110e10c58e67",
   "metadata": {},
   "source": [
    "- If you want to specify an alternative action when the condition is **false**, use **else**"
   ]
  },
  {
   "cell_type": "code",
   "execution_count": null,
   "id": "e07391f4-bd90-46d1-afa5-62c837dd9bb0",
   "metadata": {},
   "outputs": [],
   "source": []
  },
  {
   "cell_type": "markdown",
   "id": "2f3de664-2e47-4f6a-b5f2-bb222dd1cc32",
   "metadata": {},
   "source": [
    "- What if we have **more than 1 condition** we want to use? - **elif**"
   ]
  },
  {
   "cell_type": "code",
   "execution_count": null,
   "id": "013092e1-3cff-4f32-b939-936ac672795c",
   "metadata": {},
   "outputs": [],
   "source": [
    "# > 750 - excellent, between 700 and 750 - good & below 700 - bad\n",
    "\n"
   ]
  },
  {
   "cell_type": "markdown",
   "id": "861ec61c-df6b-4acc-ab7a-e365ba2e7f77",
   "metadata": {},
   "source": [
    "- Multiple condtions - **Nested If statements**"
   ]
  },
  {
   "cell_type": "code",
   "execution_count": null,
   "id": "f11843f8-0775-42fc-8a36-e9453f99aea6",
   "metadata": {},
   "outputs": [],
   "source": [
    "# check age first \n",
    "# then check credit score\n",
    "\n"
   ]
  },
  {
   "cell_type": "code",
   "execution_count": null,
   "id": "518106ff-bd71-4979-b033-29792802eb06",
   "metadata": {},
   "outputs": [],
   "source": []
  }
 ],
 "metadata": {
  "kernelspec": {
   "display_name": "Python 3 (ipykernel)",
   "language": "python",
   "name": "python3"
  },
  "language_info": {
   "codemirror_mode": {
    "name": "ipython",
    "version": 3
   },
   "file_extension": ".py",
   "mimetype": "text/x-python",
   "name": "python",
   "nbconvert_exporter": "python",
   "pygments_lexer": "ipython3",
   "version": "3.12.7"
  }
 },
 "nbformat": 4,
 "nbformat_minor": 5
}
