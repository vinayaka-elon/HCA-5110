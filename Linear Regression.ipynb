{
 "cells": [
  {
   "cell_type": "markdown",
   "id": "8dd30a77-85b7-4018-a097-b83b5a677fb8",
   "metadata": {},
   "source": [
    "# Linear Regression"
   ]
  },
  {
   "cell_type": "markdown",
   "id": "9f4776f4-345f-46de-8832-6675a5a22673",
   "metadata": {},
   "source": [
    "# 1. Import Libraries"
   ]
  },
  {
   "cell_type": "code",
   "execution_count": null,
   "id": "30cd24d1-d9a0-4547-b0ab-be17376f3d02",
   "metadata": {},
   "outputs": [],
   "source": [
    "#import statsmodels.api as sm\n",
    "#pip install statmodels\n",
    "\n",
    "import statsmodels.api as sm\n",
    "import pandas as pd\n",
    "import matplotlib.pyplot as plt\n",
    "import seaborn as sns"
   ]
  },
  {
   "cell_type": "markdown",
   "id": "5e29939d-799e-4fff-be2a-aeee598e46a3",
   "metadata": {},
   "source": [
    "# 2. Import Data"
   ]
  },
  {
   "cell_type": "code",
   "execution_count": null,
   "id": "e68b6662-ada3-4f37-a734-68bc95dc93e5",
   "metadata": {},
   "outputs": [],
   "source": [
    "df = pd.read_excel(\"Example.xlsx\")\n",
    "df"
   ]
  },
  {
   "cell_type": "markdown",
   "id": "bc0a3707-43c0-40dd-8a04-2b9270675567",
   "metadata": {},
   "source": [
    "**Simple Linear Regression**\n",
    "- Target - College_GPA\n",
    "- Predictors - HSGPA\n",
    "  \n",
    "**Multiple Linear Regression**\n",
    "- Target - College_GPA\n",
    "- Predictors - All except Applicant"
   ]
  },
  {
   "cell_type": "markdown",
   "id": "b08a0834-2c55-41a0-b8be-e422fa7d1862",
   "metadata": {},
   "source": [
    "# 3. Data Cleaning"
   ]
  },
  {
   "cell_type": "markdown",
   "id": "730daee5-a416-4758-b17d-5554d462145b",
   "metadata": {},
   "source": [
    "### 3.1 Basic Overview"
   ]
  },
  {
   "cell_type": "code",
   "execution_count": null,
   "id": "309e25e8-f9f5-43b4-bafc-8a32fe09eb01",
   "metadata": {},
   "outputs": [],
   "source": [
    "df.head()"
   ]
  },
  {
   "cell_type": "markdown",
   "id": "5034d268-6484-4862-969c-cf3bfcc3aa59",
   "metadata": {},
   "source": [
    "### 3.2 Datatypes"
   ]
  },
  {
   "cell_type": "code",
   "execution_count": null,
   "id": "3f02432a-59b2-43be-9002-7dac1fd828ea",
   "metadata": {},
   "outputs": [],
   "source": [
    "df.info()"
   ]
  },
  {
   "cell_type": "markdown",
   "id": "71173d23-6e37-4642-a957-5808132be5c9",
   "metadata": {},
   "source": [
    "### 3.3 Missing values (Nulls)"
   ]
  },
  {
   "cell_type": "code",
   "execution_count": null,
   "id": "6eafb74c-9d45-41ab-92e5-8147005020ac",
   "metadata": {},
   "outputs": [],
   "source": [
    "new_df = df.dropna()\n",
    "new_df"
   ]
  },
  {
   "cell_type": "markdown",
   "id": "40e67438-cb2d-4d66-b119-b589ee5b4735",
   "metadata": {},
   "source": [
    "### 3.4 Outliers"
   ]
  },
  {
   "cell_type": "code",
   "execution_count": null,
   "id": "b1dc4f2f-8fd3-4ece-b30a-26679f26be70",
   "metadata": {},
   "outputs": [],
   "source": [
    "new_df = new_df.drop([\"Applicant\"], axis=1)\n",
    "\n",
    "new_df"
   ]
  },
  {
   "cell_type": "code",
   "execution_count": null,
   "id": "ba30503f-7621-46ca-a7df-b4fe4e9e9f3d",
   "metadata": {},
   "outputs": [],
   "source": [
    "new_df.describe()"
   ]
  },
  {
   "cell_type": "code",
   "execution_count": null,
   "id": "45bd0730-e205-4352-9608-6172d6ae8a44",
   "metadata": {},
   "outputs": [],
   "source": [
    "sns.boxplot(new_df[\"HSGPA\"])\n",
    "plt.show()"
   ]
  },
  {
   "cell_type": "code",
   "execution_count": null,
   "id": "ff82e88a-6caf-48bf-936a-7078f2ea6eb6",
   "metadata": {},
   "outputs": [],
   "source": [
    "sns.boxplot(new_df[\"College_GPA\"])\n",
    "plt.show()"
   ]
  },
  {
   "cell_type": "code",
   "execution_count": null,
   "id": "4049c2e8-1e94-4a22-b216-4a9fdc52e4f6",
   "metadata": {
    "scrolled": true
   },
   "outputs": [],
   "source": [
    "final_df = new_df[(new_df[\"HSGPA\"] > 2.85) & (new_df[\"College_GPA\"] > 1.9)]\n",
    "final_df"
   ]
  },
  {
   "cell_type": "code",
   "execution_count": null,
   "id": "6138f4a2-5c04-408b-a9b9-ccd308929044",
   "metadata": {},
   "outputs": [],
   "source": [
    "sns.boxplot(final_df[\"College_GPA\"])\n",
    "plt.show()"
   ]
  },
  {
   "cell_type": "code",
   "execution_count": null,
   "id": "94139050-d59f-458f-ba46-be379d8861ed",
   "metadata": {},
   "outputs": [],
   "source": [
    "final_df.describe()"
   ]
  },
  {
   "cell_type": "markdown",
   "id": "d80c435d-dca1-4f01-b2d1-35e0927e2333",
   "metadata": {},
   "source": [
    "### 3.5 Duplicates"
   ]
  },
  {
   "cell_type": "code",
   "execution_count": null,
   "id": "921dd856-1c68-4427-af53-18bccc0a8da7",
   "metadata": {},
   "outputs": [],
   "source": [
    "final_df.drop_duplicates()\n",
    "final_df"
   ]
  },
  {
   "cell_type": "markdown",
   "id": "1425c850-2d9a-4e27-bb2a-9b1a85b4c704",
   "metadata": {},
   "source": [
    "# 4. EDA\n",
    "\n",
    "Correlation & Multicollinearity\n",
    "\n",
    "**Create heatmap**\n",
    "- plt.figure(figsize=(10, 8))\n",
    "- sns.heatmap(corr_matrix, annot=True, fmt=\".2f\", cmap=\"coolwarm\", center=0)\n",
    "- plt.title(\"Correlation Heatmap\")\n",
    "- plt.show()"
   ]
  },
  {
   "cell_type": "code",
   "execution_count": null,
   "id": "e241ccff-5ca2-4bce-b9df-3046a51e2d7c",
   "metadata": {},
   "outputs": [],
   "source": [
    "from sklearn.preprocessing import LabelEncoder\n",
    "le = LabelEncoder()\n",
    "\n",
    "cat_features = final_df.select_dtypes(include = \"object\").columns\n",
    "cat_features"
   ]
  },
  {
   "cell_type": "code",
   "execution_count": null,
   "id": "5a8981bd-c2e8-4894-ba2e-201bcdd34124",
   "metadata": {},
   "outputs": [],
   "source": [
    "from sklearn.preprocessing import LabelEncoder\n",
    "le = LabelEncoder()\n",
    "\n",
    "cat_features = final_df.select_dtypes(include = \"object\").columns\n",
    "cat_features\n",
    "\n",
    "for col in cat_features:\n",
    "    final_df[col] = le.fit_transform(final_df[col].astype(str))\n",
    "\n",
    "final_df"
   ]
  },
  {
   "cell_type": "code",
   "execution_count": null,
   "id": "dfaaaf9d-5192-46e1-a37c-dc79590ba7c9",
   "metadata": {},
   "outputs": [],
   "source": [
    "final_df = final_df.drop([\"Gender\", \"Enrolled\", \"Admitted\"], axis =1)\n",
    "final_df"
   ]
  },
  {
   "cell_type": "code",
   "execution_count": null,
   "id": "6e6bb602-af09-4dc5-963e-81863daefd53",
   "metadata": {},
   "outputs": [],
   "source": [
    "corr = final_df.corr()"
   ]
  },
  {
   "cell_type": "code",
   "execution_count": null,
   "id": "fd248ff4-039e-48f4-aa2b-449f3923e9b3",
   "metadata": {},
   "outputs": [],
   "source": [
    "sns.heatmap(corr, annot=True, fmt=\".2f\", cmap=\"coolwarm\", center=0)\n",
    "plt.title(\"Correlation Heatmap\")\n",
    "plt.show()"
   ]
  },
  {
   "cell_type": "markdown",
   "id": "3f0c3a56-6536-40e0-be02-760d28246999",
   "metadata": {},
   "source": [
    "##### Correlation --> which predictors are correlated with target?\n",
    "- HSGPA has the strongest 0.47, weak positive\n",
    "- SAT/ACT has 0.31, weat positive\n",
    "- Using these two will give us the best model\n",
    "\n",
    "##### Multicollinearity --> which predictors are correlated among themselves?\n",
    "- Edu_parents are correlated among themselves - so only one of them - moderately positive\n",
    "- Asian and White are negatively correlated. We can remove one of them -- so remove one of them\n",
    "- Edu_parent1 is higher, White is higher - keeping them"
   ]
  },
  {
   "cell_type": "code",
   "execution_count": null,
   "id": "847b6f5b-f3f5-43ce-89ba-265c224daad7",
   "metadata": {},
   "outputs": [],
   "source": [
    "final_df = final_df.drop([\"Asian\", \"Edu_Parent2\"], axis =1)\n",
    "final_df"
   ]
  },
  {
   "cell_type": "markdown",
   "id": "384e1a77-a1ad-4e3e-bf4b-bf40a53edde1",
   "metadata": {},
   "source": [
    "# 5. Splitting the data"
   ]
  },
  {
   "cell_type": "code",
   "execution_count": null,
   "id": "3518ee3d-8ffb-4743-b3a7-485f98e99fc9",
   "metadata": {},
   "outputs": [],
   "source": [
    "final_df.reset_index()"
   ]
  },
  {
   "cell_type": "code",
   "execution_count": null,
   "id": "887479cd-5d6e-44f3-8dd0-ac115eacf9d9",
   "metadata": {},
   "outputs": [],
   "source": [
    "#from sklearn.model_selection import train_test_split\n",
    "#X_train, X_test, y_train, y_test = train_test_split(X, y, test_size=0.2, random_state=42)\n",
    "\n",
    "X = final_df.drop(\"College_GPA\", axis=1)\n",
    "y = final_df[[\"College_GPA\"]]\n",
    "\n",
    "from sklearn.model_selection import train_test_split\n",
    "X_train, X_test, y_train, y_test = train_test_split(X, y, test_size=0.2, random_state=42)\n",
    "\n",
    "print(len(X_train))\n",
    "print(len(X_test))"
   ]
  },
  {
   "cell_type": "markdown",
   "id": "b02528f7-4682-472a-a541-ab67b0bd30c2",
   "metadata": {},
   "source": [
    "# 6. Training the Linear Model\n",
    "\n",
    "- X_reg = sm.add_constant(X_train) # adding a constant\n",
    "- reg = sm.OLS(y_train, X_reg).fit()\n",
    "- pred = reg.predict(X_reg)\n",
    "- reg.summary()\n",
    "\n",
    "y = b0 * 1 + b1 x"
   ]
  },
  {
   "cell_type": "code",
   "execution_count": null,
   "id": "3d4ab321-e0c6-4a5a-b5c1-d7ca3cf1dd38",
   "metadata": {},
   "outputs": [],
   "source": [
    "X_test"
   ]
  },
  {
   "cell_type": "code",
   "execution_count": null,
   "id": "3a83312f-dfe3-4ffb-997f-71ee14cb5c71",
   "metadata": {},
   "outputs": [],
   "source": [
    "X_reg = sm.add_constant(X_train) # adding a constant\n",
    "\n",
    "X_reg"
   ]
  },
  {
   "cell_type": "code",
   "execution_count": null,
   "id": "e6171780-4efd-4dac-b2ad-3467c98910a4",
   "metadata": {},
   "outputs": [],
   "source": [
    "reg = sm.OLS(y_train, X_reg).fit()\n",
    "reg.summary()"
   ]
  },
  {
   "cell_type": "markdown",
   "id": "68fc6714-e5b3-41c4-9eb7-1350574bc58b",
   "metadata": {},
   "source": [
    "**MLR**\n",
    "- 0.301, better than SLR, still not great, but 30% of variation in College GPA is explained. 8% extra!\n",
    "- Prob of F-static is less than 0.05, model is significant.\n",
    "- All the variables have p-value less than 0.05, so all of them are significant."
   ]
  },
  {
   "cell_type": "markdown",
   "id": "5d9ac5d6-8ca7-46e7-a46b-0f0e4b4d7834",
   "metadata": {},
   "source": [
    "**Interpretations (Simple Linear)**\n",
    "- R squared value is 0.22 which indicates 22% of the variation in college GPA is explained by HSGPA. Not great as it is not greater than 0.7\n",
    "- Prob (F-statistic) is very less, definitely less than 0.05, so the model is signficiant or useful. Precisely, atleast one of the independent variables is able to predict \"y\"\n",
    "- HSGPA has a p-value of 0.000, which is less than 0.05, so it is signficiant is predicting \"y\"\n",
    "- HSGPA coeff is 0.65. If HSGPA goes up by 0.01 then College GPA goes up by 0.0065. "
   ]
  },
  {
   "cell_type": "markdown",
   "id": "06eebd23-fb66-42b4-8f88-36ef6bf4247d",
   "metadata": {},
   "source": [
    "# 7. Making Predictions"
   ]
  },
  {
   "cell_type": "code",
   "execution_count": null,
   "id": "511a0124-5e31-422e-8987-e19aa95ad205",
   "metadata": {},
   "outputs": [],
   "source": [
    "X_test = sm.add_constant(X_test) # adding a constant\n",
    "pred = reg.predict(X_test)\n",
    "\n",
    "pred"
   ]
  },
  {
   "cell_type": "markdown",
   "id": "5a71a9a9-ffbc-4e22-b831-b76d2501802e",
   "metadata": {},
   "source": [
    "# 8. Evaluating the Model\n",
    "- from sklearn.metrics import mean_squared_error\n",
    "- mse = mean_squared_error(y_train, pred)\n",
    "- rmse = np.sqrt(mean_squared_error(y_train, pred))\n",
    "\n",
    "- MSE = Sum(original data - prediction)^2/number of data points\n",
    "- RMSE = Sqrt(MSE)"
   ]
  },
  {
   "cell_type": "code",
   "execution_count": null,
   "id": "6a4e2835-6f63-4130-a14c-1a949fd75e49",
   "metadata": {},
   "outputs": [],
   "source": [
    "from sklearn.metrics import mean_squared_error\n",
    "\n",
    "# Trainng MSE\n",
    "pred_train = reg.predict(X_reg)\n",
    "mse_train = mean_squared_error(y_train, pred_train)\n",
    "mse_train\n",
    "\n",
    "import numpy as np\n",
    "rmse_train = np.sqrt(mse_train)\n",
    "rmse_train"
   ]
  },
  {
   "cell_type": "code",
   "execution_count": null,
   "id": "1d50077e-6313-4d3e-8f47-5aadb0361647",
   "metadata": {},
   "outputs": [],
   "source": [
    "# Testing MSE\n",
    "\n",
    "mse = mean_squared_error(y_test, pred)\n",
    "mse\n",
    "\n",
    "import numpy as np\n",
    "rmse_test = np.sqrt(mse)\n",
    "rmse_test"
   ]
  },
  {
   "cell_type": "markdown",
   "id": "2d7c8f12-dfc2-416b-b7d6-3e4564d57ea5",
   "metadata": {},
   "source": [
    "# 9. Visualizing the Model\n",
    "\n",
    "- plt.scatter(y_train, pred)\n",
    "- plt.plot([y_train.min(), y_train.max()], [y_train.min(), y_train.max()], 'r--')\n",
    "- plt.xlabel('Actual Values')\n",
    "- plt.ylabel('Predicted Values')\n",
    "- plt.title('Actual vs Predicted Values')\n",
    "- plt.show()"
   ]
  },
  {
   "cell_type": "code",
   "execution_count": null,
   "id": "7a47e086-d426-4093-89a2-cc5797b1d075",
   "metadata": {},
   "outputs": [],
   "source": [
    "plt.scatter(y_test, pred)\n",
    "plt.plot([y_test.min(), y_test.max()], [y_test.min(), y_test.max()], 'r--')\n",
    "plt.xlabel('Actual Values')\n",
    "plt.ylabel('Predicted Values')\n",
    "plt.title('Actual vs Predicted Values')\n",
    "plt.show()"
   ]
  },
  {
   "cell_type": "markdown",
   "id": "4ba28f76-4b26-4e77-af52-67d10299f7ee",
   "metadata": {},
   "source": [
    "# 10. Reflection"
   ]
  },
  {
   "cell_type": "markdown",
   "id": "cf0b1ab6-0a68-4ddb-825e-0fa2abcfe64a",
   "metadata": {},
   "source": [
    "- R squared value is 0.22 which indicates 22% of the variation in college GPA is explained by HSGPA. Not great as it is not greater than 0.7\n",
    "- Prob (F-statistic) is very less, definitely less than 0.05, so the model is signficiant or useful. Precisely, atleast one of the independent variables is able to predict \"y\"\n",
    "- HSGPA has a p-value of 0.000, which is less than 0.05, so it is signficiant is predicting \"y\"\n",
    "- HSGPA coeff is 0.65. If HSGPA goes up by 0.01 then College GPA goes up by 0.0065.\n",
    "- Similar performance on testing and training sets, which is good.\n",
    "- Viusalizations shows the model often predicts higher than the actual values"
   ]
  },
  {
   "cell_type": "markdown",
   "id": "6d45b814-3ad4-42e7-afd3-b3a8cb020ba0",
   "metadata": {},
   "source": [
    "# 11. Advanced Models\n",
    "\n",
    "**https://scikit-learn.org/stable/modules/generated/sklearn.linear_model.SGDRegressor.html**\n",
    "\n",
    "- from sklearn.preprocessing import PolynomialFeatures\n",
    "- from sklearn.linear_model import SGDRegressor\n",
    "- from sklearn.pipeline import make_pipeline\n",
    "- from sklearn.metrics import mean_squared_error\n",
    "- from sklearn.preprocessing import StandardScaler, MinMaxScaler\n",
    "\n",
    "##### ridge = make_pipeline(StandardScaler(), SGDRegressor(penalty=\"l2\"))\n",
    "##### lasso = make_pipeline(StandardScaler(), SGDRegressor(penalty=\"l1\"))\n",
    "##### elasticnet = make_pipeline(StandardScaler(), SGDRegressor(penalty=\"elasticnet\"))\n",
    "##### poly_features = PolynomialFeatures(degree=2, include_bias=False)"
   ]
  },
  {
   "cell_type": "code",
   "execution_count": null,
   "id": "4d58f56e-fdd4-439c-a494-aa764eb179c5",
   "metadata": {},
   "outputs": [],
   "source": [
    "X_train, X_test, y_train, y_test = train_test_split(X, y, test_size=0.2, random_state=42)"
   ]
  },
  {
   "cell_type": "code",
   "execution_count": null,
   "id": "ca331757-a584-4b07-a6c9-0673fba82220",
   "metadata": {},
   "outputs": [],
   "source": [
    "X_train"
   ]
  },
  {
   "cell_type": "code",
   "execution_count": null,
   "id": "640f3bad-9765-4cb2-aab7-f6a262f69b47",
   "metadata": {},
   "outputs": [],
   "source": [
    "from sklearn.linear_model import SGDRegressor\n",
    "from sklearn.pipeline import make_pipeline\n",
    "from sklearn.preprocessing import StandardScaler, MinMaxScaler\n",
    "\n",
    "ridge = make_pipeline(StandardScaler(), SGDRegressor(penalty=\"l2\"))\n",
    "ridge.fit(X_train, y_train)\n",
    "ridge_pred = ridge.predict(X_test)\n",
    "\n",
    "ridge_pred"
   ]
  },
  {
   "cell_type": "markdown",
   "id": "a63e7dfb-89ea-454e-8ebf-6c88504d6c4d",
   "metadata": {},
   "source": [
    "**Print errors**\n",
    "print(f\"Model: Ridge Regression | MSE: {mse:.4f} | RMSE: {rmse:.4f} | R²: {r2:.4f}\")\n"
   ]
  },
  {
   "cell_type": "code",
   "execution_count": null,
   "id": "a3de08cd-ed1d-43eb-b64f-939d8922e862",
   "metadata": {},
   "outputs": [],
   "source": [
    "from sklearn.metrics import mean_squared_error, r2_score\n",
    "\n",
    "mse = mean_squared_error(y_test, pred)\n",
    "rmse = np.sqrt(mse)\n",
    "r2 = r2_score(y_test, pred)\n",
    "\n",
    "print(f\"Model: Linear Regression | MSE: {mse:.4f} | RMSE: {rmse:.4f} | R²: {r2:.4f}\")"
   ]
  },
  {
   "cell_type": "code",
   "execution_count": null,
   "id": "27bceae2-a498-40b0-96a5-9dcaf90dd62e",
   "metadata": {},
   "outputs": [],
   "source": [
    "\n",
    "mse = mean_squared_error(y_test, ridge_pred)\n",
    "rmse = np.sqrt(mse)\n",
    "r2 = r2_score(y_test, ridge_pred)\n",
    "\n",
    "print(f\"Model: Ridge Regression | MSE: {mse:.4f} | RMSE: {rmse:.4f} | R²: {r2:.4f}\")\n"
   ]
  },
  {
   "cell_type": "code",
   "execution_count": null,
   "id": "7f56247d-06cf-4e69-a7b3-4f9b499ee18b",
   "metadata": {},
   "outputs": [],
   "source": [
    "lasso = make_pipeline(StandardScaler(), SGDRegressor(penalty=\"l1\"))\n",
    "lasso.fit(X_train, y_train)\n",
    "lasso_pred = lasso.predict(X_test)\n",
    "\n",
    "mse = mean_squared_error(y_test, lasso_pred)\n",
    "rmse = np.sqrt(mse)\n",
    "r2 = r2_score(y_test, lasso_pred)\n",
    "\n",
    "print(f\"Model: Lasso Regression | MSE: {mse:.4f} | RMSE: {rmse:.4f} | R²: {r2:.4f}\")"
   ]
  },
  {
   "cell_type": "code",
   "execution_count": null,
   "id": "772a87d5-b83e-444d-a066-662a93b75f81",
   "metadata": {},
   "outputs": [],
   "source": [
    "enet = make_pipeline(StandardScaler(), SGDRegressor(penalty=\"elasticnet\"))\n",
    "enet.fit(X_train, y_train)\n",
    "enet_pred = enet.predict(X_test)\n",
    "\n",
    "mse = mean_squared_error(y_test, enet_pred)\n",
    "rmse = np.sqrt(mse)\n",
    "r2 = r2_score(y_test, enet_pred)\n",
    "\n",
    "print(f\"Model: ElasticNet Regression | MSE: {mse:.4f} | RMSE: {rmse:.4f} | R²: {r2:.4f}\")"
   ]
  },
  {
   "cell_type": "code",
   "execution_count": null,
   "id": "d5b33ea3-4976-4013-a950-b08a30ffea2c",
   "metadata": {},
   "outputs": [],
   "source": [
    "from sklearn.model_selection import GridSearchCV\n",
    "\n",
    "sgd_pipeline = make_pipeline(StandardScaler(),SGDRegressor())\n",
    "\n",
    "parameters = {\n",
    "    'sgdregressor__loss': ['squared_error', 'huber', 'epsilon_insensitive'],\n",
    "    'sgdregressor__penalty': ['l2', 'l1', 'elasticnet', None],\n",
    "    'sgdregressor__alpha': [0.0001, 0.001, 0.01],\n",
    "    'sgdregressor__learning_rate': ['constant', 'optimal', 'invscaling', 'adaptive'],\n",
    "    'sgdregressor__eta0': [0.01, 0.001, 0.1],  # initial learning rate\n",
    "}\n",
    "\n",
    "clf = GridSearchCV(\n",
    "    estimator=sgd_pipeline,\n",
    "    param_grid=parameters,\n",
    "    n_jobs = -1\n",
    ")\n",
    "\n",
    "clf.fit(X_train, y_train)"
   ]
  },
  {
   "cell_type": "code",
   "execution_count": null,
   "id": "4c28a17c-a07b-47a7-af19-deb83adab08a",
   "metadata": {},
   "outputs": [],
   "source": [
    "best = make_pipeline(StandardScaler(),SGDRegressor(alpha=0.01, eta0=0.001, loss='epsilon_insensitive', penalty='l1'))\n",
    "\n",
    "best.fit(X_train, y_train)\n",
    "best_pred = best.predict(X_test)\n",
    "\n",
    "mse = mean_squared_error(y_test, best_pred)\n",
    "rmse = np.sqrt(mse)\n",
    "r2 = r2_score(y_test, best_pred)\n",
    "\n",
    "print(f\"Model: Best Regression | MSE: {mse:.4f} | RMSE: {rmse:.4f} | R²: {r2:.4f}\")"
   ]
  },
  {
   "cell_type": "markdown",
   "id": "d057b8f3-384c-4829-9d15-61d95d0381fe",
   "metadata": {},
   "source": [
    "- y = b0 + b1*x1 + b2*x2\n",
    "- y = b0 + b1*x1^2 + b2*x2^2 + b3*x1*x2 (degree 2) + (x1, x2)\n",
    " "
   ]
  },
  {
   "cell_type": "code",
   "execution_count": null,
   "id": "8c043b7d-7036-400d-8bed-1bee211770cb",
   "metadata": {},
   "outputs": [],
   "source": [
    "X_train"
   ]
  },
  {
   "cell_type": "markdown",
   "id": "b7494b4a-12ff-458b-afdf-fee003c136a1",
   "metadata": {},
   "source": [
    "1 + (orginal 5) + (squares of the original 5) + (12, 13, 14, 15, 23, 24, 25, 34, 35, 45)"
   ]
  },
  {
   "cell_type": "code",
   "execution_count": null,
   "id": "e3d555f7-07a0-4689-8cdf-97d6e7c4991b",
   "metadata": {},
   "outputs": [],
   "source": [
    "from sklearn.preprocessing import PolynomialFeatures\n",
    "\n",
    "poly_features = PolynomialFeatures(degree=3)\n",
    "X_train_poly = poly_features.fit_transform(X_train)\n",
    "X_test_poly = poly_features.fit_transform(X_test)\n",
    "\n",
    "len(X_train_poly[1])"
   ]
  },
  {
   "cell_type": "code",
   "execution_count": null,
   "id": "fd0ad3df-1f78-41d0-a0f8-5d0792709e8b",
   "metadata": {},
   "outputs": [],
   "source": [
    "poly = make_pipeline(StandardScaler(),SGDRegressor(alpha=0.01, eta0=0.001, loss='epsilon_insensitive', penalty='l1'))\n",
    "poly.fit(X_train_poly, y_train)\n",
    "poly_pred = poly.predict(X_test_poly)\n",
    "\n",
    "mse = mean_squared_error(y_test, poly_pred)\n",
    "rmse = np.sqrt(mse)\n",
    "r2 = r2_score(y_test, poly_pred)\n",
    "\n",
    "print(f\"Model: Polynomial Regression | MSE: {mse:.4f} | RMSE: {rmse:.4f} | R²: {r2:.4f}\")"
   ]
  },
  {
   "cell_type": "code",
   "execution_count": null,
   "id": "cc71d214-93b8-4076-a52f-b7d15afe3bc1",
   "metadata": {},
   "outputs": [],
   "source": []
  }
 ],
 "metadata": {
  "kernelspec": {
   "display_name": "Python 3 (ipykernel)",
   "language": "python",
   "name": "python3"
  },
  "language_info": {
   "codemirror_mode": {
    "name": "ipython",
    "version": 3
   },
   "file_extension": ".py",
   "mimetype": "text/x-python",
   "name": "python",
   "nbconvert_exporter": "python",
   "pygments_lexer": "ipython3",
   "version": "3.12.7"
  }
 },
 "nbformat": 4,
 "nbformat_minor": 5
}
