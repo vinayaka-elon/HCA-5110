{
 "cells": [
  {
   "cell_type": "markdown",
   "metadata": {
    "cell_id": "dea50a85adce443584ffb42b3efa546f",
    "deepnote_cell_type": "markdown",
    "id": "hpJWyJXq7Zl9"
   },
   "source": [
    "### Data Cleaning"
   ]
  },
  {
   "cell_type": "markdown",
   "metadata": {
    "cell_id": "66ecdc87fd09411e988c940de5fe5003",
    "deepnote_cell_type": "markdown",
    "id": "EVD27TP17ZmB"
   },
   "source": [
    "#### Acquiring and Loading Data\n"
   ]
  },
  {
   "cell_type": "code",
   "execution_count": null,
   "metadata": {
    "cell_id": "7652fdf0134f4d6091689d0ca0fdf2e5",
    "deepnote_cell_type": "code",
    "deepnote_to_be_reexecuted": false,
    "execution_millis": 1489,
    "execution_start": 1684082032937,
    "id": "9ojZGlEe7ZmC",
    "source_hash": "ab774905"
   },
   "outputs": [],
   "source": [
    "# Data manipulation\n",
    "import datetime\n",
    "import numpy as np\n",
    "import pandas as pd\n",
    "import pandas.api.types as ptypes\n",
    "#from skimpy import skim, clean_columns\n",
    "pd.options.display.float_format = '{:.6f}'.format\n",
    "np.set_printoptions(suppress=True)\n",
    "\n",
    "# Visualizations\n",
    "import matplotlib.pyplot as plt\n",
    "import seaborn as sns"
   ]
  },
  {
   "cell_type": "markdown",
   "metadata": {
    "cell_id": "5a64877afc224dccbfb11b10f59221fd",
    "deepnote_cell_type": "markdown",
    "id": "a06L7wUL7ZmC"
   },
   "source": [
    "### Loading Data"
   ]
  },
  {
   "cell_type": "code",
   "execution_count": null,
   "metadata": {
    "cell_id": "310231887a074cabb1ba7abea7b991bf",
    "deepnote_cell_type": "code",
    "deepnote_to_be_reexecuted": false,
    "execution_millis": 1,
    "execution_start": 1684082034439,
    "id": "VmozEa3g7ZmC",
    "source_hash": "2a9d8eee"
   },
   "outputs": [],
   "source": [
    "# # Load Dataset (read_csv or read_excel)\n",
    "# file = 'file.csv'\n",
    "# df = pd.read_excel(file)\n",
    "# df"
   ]
  },
  {
   "cell_type": "markdown",
   "metadata": {
    "cell_id": "02108a7965a64b57992d9db3eb1e23a1",
    "deepnote_cell_type": "markdown",
    "id": "J9NoBVww7ZmC"
   },
   "source": [
    "### Basic Data Exploration"
   ]
  },
  {
   "cell_type": "code",
   "execution_count": null,
   "metadata": {
    "cell_id": "a82fce9bd2f443509252ca7620379aa5",
    "deepnote_cell_type": "code",
    "deepnote_to_be_reexecuted": false,
    "execution_millis": 30,
    "execution_start": 1684082034452,
    "id": "MH6apjTU7ZmD",
    "source_hash": "f584530c"
   },
   "outputs": [],
   "source": [
    "# df.head()"
   ]
  },
  {
   "cell_type": "code",
   "execution_count": null,
   "metadata": {
    "cell_id": "c3685e4ca2a743c68263bf5e4c617073",
    "deepnote_cell_type": "code",
    "deepnote_to_be_reexecuted": false,
    "execution_millis": 45,
    "execution_start": 1684082034454,
    "id": "OY5RTmvv7ZmD",
    "source_hash": "c2c74a05"
   },
   "outputs": [],
   "source": [
    "# df.tail()"
   ]
  },
  {
   "cell_type": "markdown",
   "metadata": {
    "id": "FUKhNvCD8NeZ"
   },
   "source": []
  },
  {
   "cell_type": "markdown",
   "metadata": {
    "cell_id": "7274c5c9b3ae440fb8a2a8858ef6d27f",
    "deepnote_cell_type": "markdown",
    "id": "fAdNdV0l7ZmD"
   },
   "source": [
    "#### Check Data Types"
   ]
  },
  {
   "cell_type": "code",
   "execution_count": null,
   "metadata": {
    "cell_id": "ffc9ed41bd8e4957af514b3d9f9a8986",
    "deepnote_cell_type": "code",
    "deepnote_to_be_reexecuted": false,
    "execution_millis": 19,
    "execution_start": 1684082034480,
    "id": "kjhgCmZO7ZmD",
    "source_hash": "411bda3e"
   },
   "outputs": [],
   "source": [
    "# # Show data types\n",
    "# df.info()"
   ]
  },
  {
   "cell_type": "markdown",
   "metadata": {
    "cell_id": "7f762cd850bf4a5899692d37dce3bfe4",
    "deepnote_cell_type": "markdown",
    "id": "xlkk65Ri7ZmD"
   },
   "source": [
    "- `column1`, `column2`, `column3` are **strings**.\n",
    "- `column4` and `column5` are **floats**.\n",
    "- `column6` is an **integer**.\n",
    "\n",
    "`column3` should be a **datetime** type instead."
   ]
  },
  {
   "cell_type": "markdown",
   "metadata": {
    "cell_id": "4d97dcf425544595846e23c0c3e57637",
    "deepnote_cell_type": "markdown",
    "id": "hVOo_QU_7ZmD"
   },
   "source": [
    "#### Check Missing Data"
   ]
  },
  {
   "cell_type": "code",
   "execution_count": null,
   "metadata": {
    "cell_id": "37050f70f0334425868db3e02d515659",
    "deepnote_cell_type": "code",
    "deepnote_to_be_reexecuted": false,
    "execution_millis": 19,
    "execution_start": 1684082034480,
    "id": "GXQ-NZqw7ZmD",
    "source_hash": "7d2008df"
   },
   "outputs": [],
   "source": [
    "# # Print percentage of missing values\n",
    "\n",
    "# missing_percent = df.isna().mean().sort_values(ascending=False)\n",
    "# print('---- Percentage of Missing Values (%) -----')\n",
    "# if missing_percent.sum():\n",
    "#   print(missing_percent[missing_percent > 0] * 100)\n",
    "# else:\n",
    "#    print('None')"
   ]
  },
  {
   "cell_type": "code",
   "execution_count": null,
   "metadata": {
    "id": "yojHVEJ48py5"
   },
   "outputs": [],
   "source": []
  },
  {
   "cell_type": "markdown",
   "metadata": {
    "cell_id": "788f50114ef74753bf9a47386517d95f",
    "deepnote_cell_type": "markdown",
    "id": "1M0tNG3H7ZmD"
   },
   "source": [
    "#### Check for Duplicate Rows"
   ]
  },
  {
   "cell_type": "code",
   "execution_count": null,
   "metadata": {
    "cell_id": "2f173b2cfa29432bb073a029b773219e",
    "deepnote_cell_type": "code",
    "deepnote_to_be_reexecuted": false,
    "execution_millis": 19,
    "execution_start": 1684082034480,
    "id": "fAHusvmd7ZmD",
    "source_hash": "d799c3f4"
   },
   "outputs": [],
   "source": [
    "# # Show number of duplicated rows\n",
    "# print(f\"No. of entirely duplicated rows: {df.duplicated().sum()}\")\n",
    "\n",
    "# # Show duplicated rows\n",
    "# df[df.duplicated()]"
   ]
  },
  {
   "cell_type": "markdown",
   "metadata": {
    "id": "KwD6Qnys8sNz"
   },
   "source": []
  },
  {
   "cell_type": "markdown",
   "metadata": {
    "cell_id": "0d0a5d13fa4f45c1bd74c5c6056e85b4",
    "deepnote_cell_type": "markdown",
    "id": "Vhopcinu7ZmE"
   },
   "source": [
    "#### Check Data Range"
   ]
  },
  {
   "cell_type": "code",
   "execution_count": null,
   "metadata": {
    "cell_id": "ed4d093842c542bdb01e7537deb27fa9",
    "deepnote_cell_type": "code",
    "deepnote_to_be_reexecuted": false,
    "execution_millis": 15,
    "execution_start": 1684082034486,
    "id": "gb1d_4Mw7ZmE",
    "source_hash": "f9954904"
   },
   "outputs": [],
   "source": [
    "# # Print summary statistics\n",
    "#df.describe(include='all')"
   ]
  },
  {
   "cell_type": "markdown",
   "metadata": {
    "cell_id": "a5bcbeb6e7f94451b008c8076cab7365",
    "deepnote_cell_type": "markdown",
    "id": "FINkjYFs7ZmE"
   },
   "source": [
    "---"
   ]
  },
  {
   "cell_type": "markdown",
   "metadata": {
    "cell_id": "592b248d503e44b4b461ef82f9adf7a6",
    "deepnote_cell_type": "markdown",
    "id": "tcuThXWd7ZmE"
   },
   "source": [
    "### Data Preprocessing"
   ]
  },
  {
   "cell_type": "code",
   "execution_count": null,
   "metadata": {
    "cell_id": "2c6bd889ea6b4629af687e24182402bb",
    "deepnote_cell_type": "code",
    "deepnote_to_be_reexecuted": false,
    "execution_millis": 0,
    "execution_start": 1684082034584,
    "id": "ihH6Ts3O7ZmK",
    "source_hash": "163ed3ca",
    "tags": []
   },
   "outputs": [],
   "source": [
    "# Delete columns:   df=df.dropna(axis=1, how='all') or  df=df.dropna(axis=1, how='any')\n"
   ]
  },
  {
   "cell_type": "code",
   "execution_count": null,
   "metadata": {
    "id": "f97u3IB39hiz"
   },
   "outputs": [],
   "source": [
    "# Delete rows:   df=df.dropna(axis=0, how='all') or  df=df.dropna(axis=0, how='any')\n"
   ]
  },
  {
   "cell_type": "code",
   "execution_count": null,
   "metadata": {
    "cell_id": "c476ebe4800f4507b6b4cfeb3059857b",
    "deepnote_cell_type": "code",
    "deepnote_to_be_reexecuted": false,
    "execution_millis": 1839849990,
    "execution_start": 1684082034590,
    "id": "sLsUipDn7ZmK",
    "source_hash": "5269ecc",
    "tags": []
   },
   "outputs": [],
   "source": [
    "# # Verify columns dropped"
   ]
  },
  {
   "cell_type": "markdown",
   "metadata": {
    "cell_id": "eaec5575662a4be589c3a7b61fe0cf06",
    "deepnote_cell_type": "markdown",
    "id": "qc11wCJ67ZmK"
   },
   "source": [
    "#### Dropping Duplicates"
   ]
  },
  {
   "cell_type": "code",
   "execution_count": null,
   "metadata": {
    "cell_id": "305ee61a5e70417ebae2407234c8c9bb",
    "deepnote_cell_type": "code",
    "deepnote_to_be_reexecuted": false,
    "execution_millis": 1,
    "execution_start": 1684082034633,
    "id": "U7HDwyz17ZmK",
    "source_hash": "a141816e"
   },
   "outputs": [],
   "source": [
    "# # Drop entirely duplicated rows\n",
    "# df.drop_duplicates(inplace=True, ignore_index=True)"
   ]
  },
  {
   "cell_type": "markdown",
   "metadata": {
    "cell_id": "bbbbbf33374e4a1a870c89f1d49227cb",
    "deepnote_cell_type": "markdown",
    "id": "yG8wrK7b7ZmK"
   },
   "source": [
    "#### Handling Unreasonable Data Ranges"
   ]
  },
  {
   "cell_type": "code",
   "execution_count": null,
   "metadata": {
    "cell_id": "ca85f03853454dec8aa379b90b7721fe",
    "deepnote_cell_type": "code",
    "deepnote_to_be_reexecuted": false,
    "execution_millis": 4,
    "execution_start": 1684082034633,
    "id": "O7AErxQl7ZmK",
    "source_hash": "6f74c738"
   },
   "outputs": [],
   "source": [
    "# # Drop affected rows\n",
    "# df = df.loc[~((df['A'] == 0) | (df['B'] > 100))].reset_index()"
   ]
  },
  {
   "cell_type": "markdown",
   "metadata": {
    "cell_id": "5a44d491b9714a98aca3e40a2e51c02e",
    "deepnote_cell_type": "markdown",
    "id": "ZB2GEjaQ7ZmK"
   },
   "source": [
    "#### Changing Data Types"
   ]
  },
  {
   "cell_type": "code",
   "execution_count": null,
   "metadata": {
    "cell_id": "be0c0625c2db4b53bcb94ef0e655b5cb",
    "deepnote_cell_type": "code",
    "deepnote_to_be_reexecuted": false,
    "execution_millis": 1,
    "execution_start": 1684082034588,
    "id": "dnXAdMGn7ZmK",
    "source_hash": "9fd78d41"
   },
   "outputs": [],
   "source": [
    "# # Convert columns to the right data types\n",
    "# df[col] = df[col].astype('string')\n",
    "# df[col] = df[col].astype('int')\n",
    "# df[col] = pd.to_datetime(df[col], infer_datetime_format=True)\n",
    "\n",
    "# # Convert to categorical datatype\n",
    "# cat_features = df.select_dtypes(include = \"object\").columns\n",
    "# le = LabelEncoder()\n",
    "#for col in cat_features:\n",
    "#    df[col] = le.fit_transform(df[col].astype(str))"
   ]
  },
  {
   "cell_type": "code",
   "execution_count": null,
   "metadata": {
    "id": "xABfxtat-Xey"
   },
   "outputs": [],
   "source": []
  },
  {
   "cell_type": "markdown",
   "metadata": {},
   "source": [
    "---"
   ]
  },
  {
   "cell_type": "markdown",
   "metadata": {},
   "source": [
    "### Descriptive statistics \n",
    "Descriptive or summary statistics in python – pandas, can be obtained by using the **describe()** function. "
   ]
  },
  {
   "cell_type": "code",
   "execution_count": null,
   "metadata": {},
   "outputs": [],
   "source": [
    "# df.describe()\n"
   ]
  },
  {
   "cell_type": "markdown",
   "metadata": {},
   "source": [
    "#### Interpretation - Skewness\n",
    "\n",
    "**df[col].skew()**\n",
    "\n",
    "**Positively Skewed (Right-Skewed):**\n",
    "Mean > Median > Mode\n",
    "→ The distribution has a long tail on the right side.\n",
    "\n",
    "**Negatively Skewed (Left-Skewed):**\n",
    "Mean < Median < Mode\n",
    "→ The distribution has a long tail on the left side.\n",
    "\n",
    "**Normally Distributed (Symmetrical):**\n",
    "Mean = Median = Mode\n",
    "→ The distribution is perfectly symmetric around the center."
   ]
  },
  {
   "cell_type": "code",
   "execution_count": null,
   "metadata": {},
   "outputs": [],
   "source": []
  },
  {
   "cell_type": "markdown",
   "metadata": {},
   "source": [
    "#### Interpretation - Kurtosis\n",
    "\n",
    "**df[col].kurt()**\n",
    "\n",
    "**Definition:**\n",
    "Kurtosis measures how peaked or flat a distribution is compared to a normal curve.\n",
    "\n",
    "**Reference Point:**\n",
    "A normal distribution has a kurtosis of 3 (or 0 excess kurtosis).\n",
    "\n",
    "##### Types of Kurtosis:\n",
    "- Mesokurtic (0 excess): Normal-shaped peak — neither too sharp nor too flat.\n",
    "- Platykurtic (<0 excess): Flatter peak and thinner tails than normal.\n",
    "- Leptokurtic (>0 excess): Sharper peak and fatter tails than normal."
   ]
  },
  {
   "cell_type": "code",
   "execution_count": null,
   "metadata": {},
   "outputs": [],
   "source": []
  }
 ],
 "metadata": {
  "colab": {
   "provenance": []
  },
  "deepnote": {},
  "deepnote_execution_queue": [],
  "deepnote_notebook_id": "8d49e53e32e14bc390f58737ab18c268",
  "deepnote_persisted_session": {
   "createdAt": "2023-04-06T16:20:59.951Z"
  },
  "kernelspec": {
   "display_name": "Python 3 (ipykernel)",
   "language": "python",
   "name": "python3"
  },
  "language_info": {
   "codemirror_mode": {
    "name": "ipython",
    "version": 3
   },
   "file_extension": ".py",
   "mimetype": "text/x-python",
   "name": "python",
   "nbconvert_exporter": "python",
   "pygments_lexer": "ipython3",
   "version": "3.12.7"
  },
  "vscode": {
   "interpreter": {
    "hash": "fafc50dc8a0fe30378212a6e8a815037b6b7ff0aadeb98c480725f88009956fb"
   }
  }
 },
 "nbformat": 4,
 "nbformat_minor": 4
}
